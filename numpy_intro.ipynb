{
  "nbformat": 4,
  "nbformat_minor": 0,
  "metadata": {
    "colab": {
      "provenance": [],
      "authorship_tag": "ABX9TyPKuN/WOgyLSFLPYY69Uijb",
      "include_colab_link": true
    },
    "kernelspec": {
      "name": "python3",
      "display_name": "Python 3"
    },
    "language_info": {
      "name": "python"
    }
  },
  "cells": [
    {
      "cell_type": "markdown",
      "metadata": {
        "id": "view-in-github",
        "colab_type": "text"
      },
      "source": [
        "<a href=\"https://colab.research.google.com/github/ananyagoyal1/Machine-Learning/blob/main/numpy_intro.ipynb\" target=\"_parent\"><img src=\"https://colab.research.google.com/assets/colab-badge.svg\" alt=\"Open In Colab\"/></a>"
      ]
    },
    {
      "cell_type": "code",
      "execution_count": null,
      "metadata": {
        "colab": {
          "base_uri": "https://localhost:8080/"
        },
        "id": "h0tJKN6kC5BJ",
        "outputId": "a4a5d9d6-6613-4eab-e825-032c2413989e"
      },
      "outputs": [
        {
          "output_type": "stream",
          "name": "stdout",
          "text": [
            "Number of attributes: 4\n",
            "Number of instances: 150\n",
            "\n",
            "Random Array:\n",
            "[[[ 4 10  1]\n",
            "  [10  8  7]\n",
            "  [ 2  2  7]]\n",
            "\n",
            " [[ 9  1  6]\n",
            "  [10 10  6]\n",
            "  [ 5  8  4]]\n",
            "\n",
            " [[ 4  4  6]\n",
            "  [ 5  2  3]\n",
            "  [ 4  1  8]]]\n",
            "\n",
            "Broadcasted Array:\n",
            "[[[ 9 15  6]\n",
            "  [15 13 12]\n",
            "  [ 7  7 12]]\n",
            "\n",
            " [[14  6 11]\n",
            "  [15 15 11]\n",
            "  [10 13  9]]\n",
            "\n",
            " [[ 9  9 11]\n",
            "  [10  7  8]\n",
            "  [ 9  6 13]]]\n",
            "\n",
            "Array Statistics:\n",
            "Maximum: 10\n",
            "Minimum: 1\n",
            "Sum: 147\n",
            "Mean: 5.444444444444445\n",
            "Standard Deviation: 2.9355210696939795\n",
            "\n",
            "Unique Elements and Counts:\n",
            "Unique Elements: [ 1  2  3  4  5  6  7  8  9 10]\n",
            "Counts: [3 3 1 5 2 3 2 3 1 4]\n",
            "\n",
            "Mean Squared Error (MSE): [18.19878658  8.71381056  0.9031484   0.25386414]\n"
          ]
        }
      ],
      "source": [
        "import numpy as np\n",
        "from sklearn import datasets\n",
        "\n",
        "# Load the iris dataset\n",
        "iris = datasets.load_iris()\n",
        "\n",
        "# Model dataset\n",
        "X = iris.data\n",
        "y = iris.target\n",
        "\n",
        "# Number of attributes\n",
        "num_attributes = X.shape[1]\n",
        "print(\"Number of attributes:\", num_attributes)\n",
        "\n",
        "# Number of instances\n",
        "num_instances = X.shape[0]\n",
        "print(\"Number of instances:\", num_instances)\n",
        "\n",
        "# 1. Initialize a random numpy array using integer values with the shape (3,3,3)\n",
        "arr = np.random.randint(1, 11, size=(3, 3, 3))\n",
        "print(\"\\nRandom Array:\")\n",
        "print(arr)\n",
        "\n",
        "# 2. Perform the broadcasting operation with another integer\n",
        "scalar = 5\n",
        "broadcasted_arr = arr + scalar\n",
        "print(\"\\nBroadcasted Array:\")\n",
        "print(broadcasted_arr)\n",
        "\n",
        "# 3. Find the max, min, sum, mean and std of the array elements\n",
        "print(\"\\nArray Statistics:\")\n",
        "print(\"Maximum:\", arr.max())\n",
        "print(\"Minimum:\", arr.min())\n",
        "print(\"Sum:\", arr.sum())\n",
        "print(\"Mean:\", arr.mean())\n",
        "print(\"Standard Deviation:\", arr.std())\n",
        "\n",
        "# 4. Get the unique items and counts of the array elements\n",
        "unique_elements, counts = np.unique(arr, return_counts=True)\n",
        "print(\"\\nUnique Elements and Counts:\")\n",
        "print(\"Unique Elements:\", unique_elements)\n",
        "print(\"Counts:\", counts)\n",
        "\n",
        "# 5. Calculate the MSE using numpy\n",
        "true_values = X[:10]  # Taking the first 10 instances as true values\n",
        "predicted_values = np.random.random((10, num_attributes))  # Random predicted values\n",
        "mse = np.mean((true_values - predicted_values) ** 2, axis=0)\n",
        "print(\"\\nMean Squared Error (MSE):\", mse)\n"
      ]
    }
  ]
}